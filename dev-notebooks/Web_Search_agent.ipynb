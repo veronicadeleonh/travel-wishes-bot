{
 "cells": [
  {
   "cell_type": "markdown",
   "metadata": {},
   "source": [
    "# 🔍 Building an AI-Powered Web Search Agent with OpenAI and Tavily 🚀\n",
    "\n",
    "Hey there! Welcome to this exciting guide where we'll create something awesome - a smart search agent that combines the power of OpenAI's language models with Tavily's search capabilities! 🌟 \n",
    "\n",
    "## 🎯 What We'll Build\n",
    "\n",
    "We're going to create a super cool search agent that can:\n",
    "1. 🌐 Search the web in real-time for accurate information\n",
    "2. 🧠 Use OpenAI's powerful GPT models to understand and process search results\n",
    "3. ⚡ Provide contextual and up-to-date responses to queries\n",
    "\n",
    "## ✅ Prerequisites\n",
    "\n",
    "Before we jump in, make sure you have these things ready:\n",
    "- 🔑 An OpenAI API key\n",
    "- 🎯 A Tavily API key (get one at tavily.com)\n",
    "\n",
    "## 🎮 Part 1: Setting Up Our Environment\n",
    "\n",
    "First things first - let's get our tools ready! We'll need to install the Tavily Python package to interact with their search API:\n"
   ]
  },
  {
   "cell_type": "code",
   "execution_count": 13,
   "metadata": {},
   "outputs": [
    {
     "name": "stdout",
     "output_type": "stream",
     "text": [
      "Requirement already satisfied: tavily-python in /opt/anaconda3/lib/python3.12/site-packages (0.5.1)\n",
      "Requirement already satisfied: requests in /opt/anaconda3/lib/python3.12/site-packages (from tavily-python) (2.32.3)\n",
      "Requirement already satisfied: tiktoken>=0.5.1 in /opt/anaconda3/lib/python3.12/site-packages (from tavily-python) (0.9.0)\n",
      "Requirement already satisfied: httpx in /opt/anaconda3/lib/python3.12/site-packages (from tavily-python) (0.27.0)\n",
      "Requirement already satisfied: regex>=2022.1.18 in /opt/anaconda3/lib/python3.12/site-packages (from tiktoken>=0.5.1->tavily-python) (2024.9.11)\n",
      "Requirement already satisfied: charset-normalizer<4,>=2 in /opt/anaconda3/lib/python3.12/site-packages (from requests->tavily-python) (3.3.2)\n",
      "Requirement already satisfied: idna<4,>=2.5 in /opt/anaconda3/lib/python3.12/site-packages (from requests->tavily-python) (3.7)\n",
      "Requirement already satisfied: urllib3<3,>=1.21.1 in /opt/anaconda3/lib/python3.12/site-packages (from requests->tavily-python) (2.2.3)\n",
      "Requirement already satisfied: certifi>=2017.4.17 in /opt/anaconda3/lib/python3.12/site-packages (from requests->tavily-python) (2024.8.30)\n",
      "Requirement already satisfied: anyio in /opt/anaconda3/lib/python3.12/site-packages (from httpx->tavily-python) (4.2.0)\n",
      "Requirement already satisfied: httpcore==1.* in /opt/anaconda3/lib/python3.12/site-packages (from httpx->tavily-python) (1.0.2)\n",
      "Requirement already satisfied: sniffio in /opt/anaconda3/lib/python3.12/site-packages (from httpx->tavily-python) (1.3.0)\n",
      "Requirement already satisfied: h11<0.15,>=0.13 in /opt/anaconda3/lib/python3.12/site-packages (from httpcore==1.*->httpx->tavily-python) (0.14.0)\n",
      "Note: you may need to restart the kernel to use updated packages.\n"
     ]
    }
   ],
   "source": [
    "%pip install tavily-python"
   ]
  },
  {
   "cell_type": "markdown",
   "metadata": {},
   "source": [
    "\n",
    "Now, let's set up our API keys (remember to keep these safe and never share them!):\n"
   ]
  },
  {
   "cell_type": "markdown",
   "metadata": {},
   "source": [
    "\n",
    "## 🛠️ Part 2: Building Our Search Tools\n",
    "\n",
    "Let's create the foundation of our search agent! We'll define a set of tools that our AI can use to search the web:"
   ]
  },
  {
   "cell_type": "code",
   "execution_count": 15,
   "metadata": {},
   "outputs": [],
   "source": [
    "import json\n",
    "from openai import OpenAI\n",
    "from tavily import TavilyClient\n",
    "import os\n",
    "import sys\n",
    "import os\n",
    "\n",
    "# Add the parent directory to the system path\n",
    "sys.path.append(os.path.abspath(os.path.join(os.getcwd(), '..')))\n",
    "\n",
    "from agent.prompts import get_system_prompt"
   ]
  },
  {
   "cell_type": "code",
   "execution_count": 16,
   "metadata": {},
   "outputs": [
    {
     "data": {
      "text/plain": [
       "{'query': 'Whats the current weather in Tokyo',\n",
       " 'follow_up_questions': None,\n",
       " 'answer': None,\n",
       " 'images': [],\n",
       " 'results': [{'title': 'Weather in Tokyo',\n",
       "   'url': 'https://www.weatherapi.com/',\n",
       "   'content': \"{'location': {'name': 'Tokyo', 'region': 'Tokyo', 'country': 'Japan', 'lat': 35.6895, 'lon': 139.6917, 'tz_id': 'Asia/Tokyo', 'localtime_epoch': 1739958125, 'localtime': '2025-02-19 18:42'}, 'current': {'last_updated_epoch': 1739957400, 'last_updated': '2025-02-19 18:30', 'temp_c': 6.1, 'temp_f': 43.0, 'is_day': 0, 'condition': {'text': 'Partly cloudy', 'icon': '//cdn.weatherapi.com/weather/64x64/night/116.png', 'code': 1003}, 'wind_mph': 21.7, 'wind_kph': 34.9, 'wind_degree': 345, 'wind_dir': 'NNW', 'pressure_mb': 1014.0, 'pressure_in': 29.94, 'precip_mm': 0.0, 'precip_in': 0.0, 'humidity': 33, 'cloud': 25, 'feelslike_c': 1.1, 'feelslike_f': 34.0, 'windchill_c': -0.4, 'windchill_f': 31.4, 'heatindex_c': 5.0, 'heatindex_f': 41.0, 'dewpoint_c': -13.6, 'dewpoint_f': 7.4, 'vis_km': 10.0, 'vis_miles': 6.0, 'uv': 0.0, 'gust_mph': 27.3, 'gust_kph': 44.0}}\",\n",
       "   'score': 0.9899286,\n",
       "   'raw_content': None},\n",
       "  {'title': 'Tokyo weather in February 2025 - METEOPROG.COM',\n",
       "   'url': 'https://www.meteoprog.com/weather/Tokyo/month/february/',\n",
       "   'content': 'Tokyo weather in February 2025 ⋆ Tokyo temperature in February ≡ Weather forecast in Japan | METEOPROG Weather in Japan Weather Widgets Русский (UA) Русский WEATHER 7-day Forecast Weather on a map Weather Widget Русский (UA) Русский 2 Weeks Tokyo weather in February 2025 February in Tokyo Max. temperature +22.7°C Min. temperature -10.2°C +5° +5° +2° 0° -3° +1° +2° -2° +5° -1° -2° -1° +1° +5° Weather Weather in Japan Monthly weather forecast in Tokyo Weather in February 2 Weeks Weather Widgets Editorial policy Hyperlink to Meteoprog.com is required when using materials from the site. The editorial staff of the project may not share the opinion of the authors and is not responsible for copyrighted materials. Русский (UA) Русский',\n",
       "   'score': 0.902687,\n",
       "   'raw_content': None},\n",
       "  {'title': 'Weather in Tokyo in February 2025 (Tōkyō-to) - Detailed Weather ...',\n",
       "   'url': 'https://world-weather.info/forecast/japan/tokyo/february-2025/',\n",
       "   'content': \"Weather in Tokyo in February 2025 (Tōkyō-to) - Detailed Weather Forecast for a Month Add the current city Search Weather World Tōkyō-to Weather in Tokyo Weather in Tokyo in February 2025 Tokyo Weather Forecast for February 2025, is based on previous years' statistical data. February +50°+41° +48°+41° +50°+41° +50°+43° +48°+41° +50°+41° +52°+41° +50°+43° +50°+41° +50°+41° +50°+41° +50°+41° +52°+43° +54°+45° +54°+45° +50°+43° +52°+43° +52°+41° +54°+45° +54°+45° +52°+45° +54°+45° +54°+45° +52°+43° +52°+45° +54°+45° +52°+43° +52°+41° Extended weather forecast in Tokyo HourlyWeek10-Day14-Day30-DayYear Weather in large and nearby cities Kawaguchi+43° Fuchū+43° Kashiwa+45° Tokorozawa+41° Kasukabe+45° Ageo+43° Kawagoe+43° Yokohama+45° Machida+43° Kawasaki+46° Kodaira+41° Funabashi+45° Nerima+43° Sōka+43° Ichikawa+45° Matsudo+43° Koshigaya+43° Kami-renjaku+43° world's temperature today day day City or place… Copyright © 2024 «World-Weather.info» All rights reserved. Temperature units\",\n",
       "   'score': 0.8925721,\n",
       "   'raw_content': None},\n",
       "  {'title': 'Weather in Tokyo in February 2025 - Detailed Forecast',\n",
       "   'url': 'https://www.easeweather.com/asia/japan/tokyo/february',\n",
       "   'content': \"Weather in Tokyo in February 2025 - Detailed Forecast Weather in Tokyo for February 2025 Your guide to Tokyo weather in February - trends and predictions In general, the average temperature in Tokyo at the beginning of February is 10\\xa0°C. Tokyo in February average weather Temperatures trend during February in Tokyo Tokyo in February - FAQ Will it snow in Tokyo in February 2025? What to pack to Tokyo in February? As you prepare for your trip to Tokyo in February, it's important to consider the typical weather patterns for the time of year. Tokyo snow forecast February 2025 Explore the daily rainfall trends and prepare for Tokyos February weather\\xa0💧\",\n",
       "   'score': 0.8745175,\n",
       "   'raw_content': None},\n",
       "  {'title': 'Tokyo weather in February 2025 | Tokyo 14 day weather',\n",
       "   'url': 'https://www.weather25.com/asia/japan/tokyo?page=month&month=February',\n",
       "   'content': 'Tokyo weather in February 2025 | Tokyo 14 day weather Tokyo  Tokyo Tokyo weather in February 2025 🌨️ Snowy days in Tokyo 2025 (February) The average weather in Tokyo in February You can expect a few days of snow in Tokyo during February. | Tokyo in February | | Tokyo in May | Temperatures in Tokyo in February Weather in Tokyo in February - FAQ The average temperature in Tokyo in February is 3/10° C. On average, there are 6 rainy days in Tokyo during February. The weather in Tokyo in February is bad. On average, there are 5 snowy days in Tokyo in February. More about the weather in Tokyo',\n",
       "   'score': 0.8674071,\n",
       "   'raw_content': None}],\n",
       " 'response_time': 1.58}"
      ]
     },
     "execution_count": 16,
     "metadata": {},
     "output_type": "execute_result"
    }
   ],
   "source": [
    "import os\n",
    "\n",
    "# Initialize Tavily\n",
    "tavily = TavilyClient(api_key=os.getenv(\"TAVILY_API_KEY\"))\n",
    "\n",
    "# Search query\n",
    "query = \"Whats the current weather in Tokyo\"\n",
    "tavily.search(query, search_depth=\"basic\")"
   ]
  },
  {
   "cell_type": "code",
   "execution_count": 17,
   "metadata": {},
   "outputs": [],
   "source": [
    "TOOLS = [\n",
    "    {\n",
    "        \"type\": \"function\",\n",
    "        \"function\": {\n",
    "            \"name\": \"search_web\",\n",
    "            \"description\": \"Search the web for information\",\n",
    "            \"parameters\": {\n",
    "                \"type\": \"object\",\n",
    "                \"properties\": {\n",
    "                    \"query\": {\"type\": \"string\"}\n",
    "                },\n",
    "                \"required\": [\"query\"]\n",
    "            },\n",
    "        },\n",
    "    },\n",
    "]"
   ]
  },
  {
   "cell_type": "code",
   "execution_count": 18,
   "metadata": {},
   "outputs": [],
   "source": [
    "def search_web(query):\n",
    "    \"\"\"Searches for both text information and images about a destination.\"\"\"\n",
    "\n",
    "    tavily = TavilyClient(api_key=os.getenv(\"TAVILY_API_KEY\"))\n",
    "\n",
    "    # Search for general country info\n",
    "    text_results = tavily.search(query, search_depth=\"basic\")[\"results\"]\n",
    "    text_info = \"\\n\".join(result[\"content\"] for result in text_results)\n",
    "\n",
    "    # Search for images\n",
    "    image_results = tavily.search(query, search_type=\"image\")[\"results\"]\n",
    "    image_urls = [result[\"url\"] for result in image_results if result[\"url\"].endswith((\"jpg\", \"png\", \"jpeg\", \"webp\"))]\n",
    "\n",
    "    return {\"text\": text_info, \"images\": image_urls}"
   ]
  },
  {
   "cell_type": "code",
   "execution_count": 19,
   "metadata": {},
   "outputs": [
    {
     "data": {
      "text/plain": [
       "{'text': \"In just 3 days in Tokyo, you will see the most iconic neighborhoods such as Shibuya, Shinjuku, and Asakusa, visit cultural sites like Senso-ji Temple and the Meiji Shrine, and experience the city's best food scene. So, settle down with a nice, cup of hot tea and get ready to explore the best of Tokyo during your unforgettable 3-day trip.\\n3 Days in Tokyo Itinerary Day 1 Morning: teamLab Borderless + Coffee teamLab Borderless. Your first stop in Tokyo is the mind-bending digital art museum, teamLab Borderless.This immersive experience is one of the most popular attractions in Tokyo, and for good reason!. Imagine walking through a space where the boundaries between art, technology, and imagination completely dissolve—rooms\\nWith that said, 3 days in Tokyo is not enough to see Tokyo. But, it is enough to see certain icons - including wards like Shibuya, Shinjuku, and Roppongi. If you have the time, I recommend spending 5 days in Tokyo - during which you'll be able to have a fuller experience and even have the opportunity to go on a day trip.\\nThis itinerary includes Tokyo's must-see attractions, allowing you to explore its history, culture, a Japanese garden, and Mount Fuji — all within 3 days. To maximize your time and travel experience, you're strongly recommended to visit no more than 3–4 highlights per day. On day 2, explore Tokyo's most-visited temple — Senso-ji, enjoy a panoramic city view at Tokyo Skytree, and appreciate a Japanese garden at Ueno Park. Alisa was responsible for the Japan period and in a week at most we had figured it out as it was done 15 days before our trip; that said we are from Brazil which means that China is 11 hour ahead of us and that was no impediment at all.MoreAndrea J, Sep 2024Tokyo Meiji Shrine with a great guide, Johnny!\\nJapan has always been a destination high on the bucket list for me, and as big skiers, we knew that we were going to also be incorporating some ski days into the trip. Ultimately, we decided on the following itinerary: ~3 days in Tokyo -> 3 days in Hakuba -> 2 days in Kyoto (2 days also for travel - 1 each way). We flew 6.5 hours to\",\n",
       " 'images': []}"
      ]
     },
     "execution_count": 19,
     "metadata": {},
     "output_type": "execute_result"
    }
   ],
   "source": [
    "search_web(\"A trip to Tokyo for 3 days\")"
   ]
  },
  {
   "cell_type": "markdown",
   "metadata": {},
   "source": [
    "\n",
    "## 🎓 Part 3: Creating Our AI Agent\n",
    "\n",
    "Now comes the exciting part! Let's create our AI agent that can understand questions and use our search tools to find answers:\n"
   ]
  },
  {
   "cell_type": "code",
   "execution_count": 20,
   "metadata": {},
   "outputs": [],
   "source": [
    "messages = [\n",
    "    {\"role\": \"system\", \"content\": get_system_prompt()},\n",
    "    {\"role\": \"user\", \"content\": \"Plan me a trip of 5 days to Tokyo, Japan\"}\n",
    "]"
   ]
  },
  {
   "cell_type": "code",
   "execution_count": 21,
   "metadata": {},
   "outputs": [],
   "source": [
    "def invoke_model(messages):\n",
    "    # Initialize the OpenAI client\n",
    "    client = OpenAI()\n",
    "\n",
    "    # Make a ChatGPT API call with tool calling\n",
    "    completion = client.chat.completions.create(\n",
    "        model=\"gpt-4o-mini\",\n",
    "        messages=messages\n",
    "    )\n",
    "\n",
    "    return completion.choices[0].message.content"
   ]
  },
  {
   "cell_type": "code",
   "execution_count": null,
   "metadata": {},
   "outputs": [
    {
     "name": "stdout",
     "output_type": "stream",
     "text": [
      "Searching the web: natural attractions in Tokyo Japan with images\n",
      "Searching the web: typical food in Tokyo Japan with local restaurants\n",
      "Searching the web: activities to do in Tokyo Japan\n",
      "{'type': 'info', 'text': \"17 Best Things to do in Tokyo, Japan (2025 Travel Itinerary) Discover the sprawling metropolis of Tokyo, the capital city of Japan — home to weird and wonderful sights, neon flashing lights, expansive gardens, tavern-filled alleys, and sensory food markets. No trip to Tokyo would be complete without a visit to Mount Fuji, and the good news is that it’s easily accessible on a day trip! One of the best things to do in Tokyo, the Hie shrine is definitely worth a stop on your city trip. Tokyo is an excellent jumping-off point for day trips in Japan, primarily because of the superfast bullet trains that can take you out of the city in a matter of minutes. Costs of Traveling in Tokyo Best Time to Visit Tokyo\\nThis is THE guide to our 23 fun things to do in Tokyo, Japan; from watching Sumo wrestlers go at it to anime museums, delicious Japanese street food and everything in between that the largest metropolis on Earth has to offer to the world. Tokyo, a great mix from modern and traditional cultures in each corner, beautiful temples with hundreds of years of history, modern and gigantic buildings, parks with fantastic landscapes,\\xa0 and streets just like the best cities in the world; NYC, London and Paris. Check out also their incredible hostels, bars and much more in our our guide to 3 Best Hostels in Tokyo, Japan – From Luxury Cafés to Backpacker Nightlife. You can read our full guide to the 3 Best Hostels in Tokyo, Japan – From Luxury Cafés to Backpacker Nightlife\\nThe Tokyo National Museum features an extensive collection of Japanese art and historical artifacts, making it a must-visit for history lovers. Whether you're an art enthusiast or just looking for a breathtaking city view, the Mori Art Museum is a cultural experience in Tokyo. Whether you're marveling at the views from Tokyo Skytree, indulging in Japanese cuisine, or exploring hidden narrow streets, every moment in Japan's capital is an adventure. Top 20 Things to Do in Tokyo for an Unforgettable Japanese Experience Feb 6, 2025 15 Best Japanese Beaches for Perfect Sunsets and Savoring Local Cuisine Feb 8, 2025 Lake Kawaguchiko in All Seasons: A Year-Round Destination for Every Traveler Feb 8, 2025 10 Best Mount Fuji Hotels for Stunning Views & Comfort Sep 22, 2023\\nThis huge list will surely inspire you with all sorts of quirky activities and must-see sights when you plan your trip to Japan's capital city. ... Showcasing the anime from the famous Studio Ghibli, this museum is one of the most unique things to do in Tokyo. Known as the Japanese Walt Disney, Hayao Miyazaki is the mastermind behind the art.\\nWelcome to Tokyo, Japan's vibrant capital and a city of endless possibilities! As local experts, we're thrilled to present our insider's guide to the 15 most captivating activities currently enchanting international visitors in Tokyo. Our carefully curated list seamlessly blends cutting-edge modernity with timeless traditions, showcasing the very best of Tokyo's rich cultural tapestry\", 'images': []}\n"
     ]
    }
   ],
   "source": [
    "# Initialize the OpenAI client\n",
    "client = OpenAI()\n",
    "\n",
    "# Make a ChatGPT API call with tool calling\n",
    "completion = client.chat.completions.create(\n",
    "    model=\"gpt-4o-mini\",\n",
    "    tools=TOOLS,\n",
    "    messages=messages\n",
    ")\n",
    "\n",
    "response = completion.choices[0].message\n",
    "\n",
    "# Parse the response to get the tool call arguments\n",
    "if response.tool_calls:\n",
    "    # Process each tool call\n",
    "    for tool_call in response.tool_calls:\n",
    "        # Get the tool call arguments\n",
    "        tool_call_arguments = json.loads(tool_call.function.arguments)\n",
    "        if tool_call.function.name == \"search_web\":\n",
    "            print(f\"Searching the web: {tool_call_arguments[\"query\"]}\")\n",
    "            search_results = search_web(tool_call_arguments[\"query\"])\n",
    "            messages.append({\"role\": \"assistant\", \"content\": f\"{tool_call_arguments[\"query\"]}: {search_results}\"})\n",
    "\n",
    "            \n",
    "    print({\n",
    "            \"type\": \"info\",\n",
    "            \"text\": search_results[\"text\"],\n",
    "            \"images\": search_results[\"images\"][:3]  # Limit to 3 images\n",
    "        })\n",
    "\n",
    "else:\n",
    "    # If there are no tool calls, return the response content\n",
    "    print(response.content)"
   ]
  }
 ],
 "metadata": {
  "kernelspec": {
   "display_name": "base",
   "language": "python",
   "name": "python3"
  },
  "language_info": {
   "codemirror_mode": {
    "name": "ipython",
    "version": 3
   },
   "file_extension": ".py",
   "mimetype": "text/x-python",
   "name": "python",
   "nbconvert_exporter": "python",
   "pygments_lexer": "ipython3",
   "version": "3.12.7"
  }
 },
 "nbformat": 4,
 "nbformat_minor": 2
}
